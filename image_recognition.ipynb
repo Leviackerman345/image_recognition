{
  "nbformat": 4,
  "nbformat_minor": 0,
  "metadata": {
    "colab": {
      "provenance": [],
      "authorship_tag": "ABX9TyNm9Ge/tsWsgmcPBQt5xkfO",
      "include_colab_link": true
    },
    "kernelspec": {
      "name": "python3",
      "display_name": "Python 3"
    },
    "language_info": {
      "name": "python"
    }
  },
  "cells": [
    {
      "cell_type": "markdown",
      "metadata": {
        "id": "view-in-github",
        "colab_type": "text"
      },
      "source": [
        "<a href=\"https://colab.research.google.com/github/SondiSohan/image_recognition/blob/main/image_recognition.ipynb\" target=\"_parent\"><img src=\"https://colab.research.google.com/assets/colab-badge.svg\" alt=\"Open In Colab\"/></a>"
      ]
    },
    {
      "cell_type": "code",
      "execution_count": null,
      "metadata": {
        "id": "-apDOr0GOT1W"
      },
      "outputs": [],
      "source": [
        "import numpy as np\n",
        "import pandas as pd\n",
        "import matplotlib.pyplot as plt\n",
        "from sklearn.model_selection import train_test_split\n",
        "from sklearn.metrics import accuracy_score\n",
        "import os\n",
        "import cv2\n",
        "from sklearn.decomposition import PCA\n",
        "from sklearn.linear_model import LogisticRegression\n",
        "from sklearn.svm import SVC\n",
        "import warnings\n"
      ]
    },
    {
      "cell_type": "code",
      "source": [
        "classes = {'no_tumor': 0, 'pituitary_tumor': 1}\n",
        "path = 'C:/sohan/project/Brain Tumor Detection Classification/Training/'\n",
        "X = []\n",
        "Y = []\n",
        "for cls in classes:\n",
        "    pth = 'C:/sohan/project/Brain Tumor Detection Classification/Training/'\n",
        "    for j in os.listdir(pth):\n",
        "        img = cv2.imread(pth+'/'+j, 0)\n",
        "        img = cv2.resize(img, (200, 200))\n",
        "        X.append(img)\n",
        "        Y.append(classes[cls])\n",
        "X = np.array(X)\n",
        "Y = np.array(Y)\n"
      ],
      "metadata": {
        "id": "3YkIgGDIOY_2"
      },
      "execution_count": null,
      "outputs": []
    },
    {
      "cell_type": "code",
      "source": [
        "plt.imshow(X[0], cmap='gray')\n",
        "plt.show()\n",
        "X_updated = X.reshape(len(X), -1)\n",
        "xtrain, xtest, ytrain, ytest = train_test_split(X_updated, Y, random_state=10, test_size=.20)\n",
        "xtrain = xtrain/255\n",
        "xtest = xtest/255\n"
      ],
      "metadata": {
        "id": "JeDCF7hKOZCY"
      },
      "execution_count": null,
      "outputs": []
    },
    {
      "cell_type": "code",
      "source": [
        "pca = PCA(.98)\n",
        "pca_train = pca.fit_transform(xtrain)\n",
        "pca_test = pca.transform(xtest)\n"
      ],
      "metadata": {
        "id": "jvo3KvOQOZE1"
      },
      "execution_count": null,
      "outputs": []
    },
    {
      "cell_type": "code",
      "source": [
        "lg = LogisticRegression(C=0.1)\n",
        "lg.fit(pca_train, ytrain)\n",
        "sv = SVC()\n",
        "sv.fit(pca_train, ytrain)\n"
      ],
      "metadata": {
        "id": "WZTd7XS0OZHR"
      },
      "execution_count": null,
      "outputs": []
    },
    {
      "cell_type": "code",
      "source": [
        "print(\"Logistic Regression Training Score:\", lg.score(pca_train, ytrain))\n",
        "print(\"Logistic Regression Testing Score:\", lg.score(pca_test, ytest))\n",
        "print(\"SVC Training Score:\", sv.score(pca_train, ytrain))\n",
        "print(\"SVC Testing Score:\", sv.score(pca_test, ytest))\n"
      ],
      "metadata": {
        "id": "vGMHFPdGOZJi"
      },
      "execution_count": null,
      "outputs": []
    },
    {
      "cell_type": "code",
      "source": [
        "pred = sv.predict(pca_test)\n",
        "np.where(ytest != pred)\n"
      ],
      "metadata": {
        "id": "n4-2msl-OZMP"
      },
      "execution_count": null,
      "outputs": []
    },
    {
      "cell_type": "code",
      "source": [
        "plt.figure(figsize=(12, 8))\n",
        "for i in os.listdir('C:/sohan/project/Brain Tumor Detection Classification/Testing/'):\n",
        "    img = cv2.imread('C:/sohan/project/Brain Tumor Detection Classification/Testing/' + i, 0)\n",
        "    img = cv2.resize(img, (200, 200))\n",
        "    img = img.reshape(1, -1) / 255\n",
        "    p = sv.predict(img)\n",
        "    plt.title(dec[p[0]])\n",
        "    plt.imshow(img, cmap='gray')\n",
        "    plt.axis('off')\n",
        "plt.show()\n"
      ],
      "metadata": {
        "id": "HGKDafLnOZOt"
      },
      "execution_count": null,
      "outputs": []
    }
  ]
}